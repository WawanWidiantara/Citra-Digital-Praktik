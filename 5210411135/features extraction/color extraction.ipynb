{
 "cells": [
  {
   "attachments": {},
   "cell_type": "markdown",
   "metadata": {},
   "source": [
    "# Features Extraction (Color)"
   ]
  },
  {
   "attachments": {},
   "cell_type": "markdown",
   "metadata": {},
   "source": [
    "### Import all package\n",
    "- **pandas** digunakan untuk mempermudah visualisasi data dan export otomatis ke excel\n",
    "- **copy** digunakan untuk melakukan copy pada list, dictionary, ataupun array agar value awal tidak berubah"
   ]
  },
  {
   "cell_type": "code",
   "execution_count": 19,
   "metadata": {},
   "outputs": [],
   "source": [
    "import cv2\n",
    "import numpy as np\n",
    "import pandas as pd\n",
    "from copy import deepcopy\n",
    "import os"
   ]
  },
  {
   "attachments": {},
   "cell_type": "markdown",
   "metadata": {},
   "source": [
    "### Pembuatan Fungsi Feature Extraction\n",
    "tujuan kode dimasukkan ke dalam fungsi adalah mempermudah pemanggilan kode tanpa perlu menulis kode ulang"
   ]
  },
  {
   "cell_type": "code",
   "execution_count": 20,
   "metadata": {},
   "outputs": [],
   "source": [
    "def featuresExtract(imgpath):\n",
    "    img = cv2.imread(imgpath)\n",
    "    b, r, g = cv2.split(img)\n",
    "        \n",
    "    sum_r = round(np.mean(r))\n",
    "    sum_g = round(np.mean(g))\n",
    "    sum_b = round(np.mean(b))\n",
    "    \n",
    "    return [sum_r, sum_g, sum_b]"
   ]
  },
  {
   "attachments": {},
   "cell_type": "markdown",
   "metadata": {},
   "source": [
    "### Pembuatan Fungsi Testing"
   ]
  },
  {
   "cell_type": "code",
   "execution_count": 21,
   "metadata": {},
   "outputs": [],
   "source": [
    "def testing(x_train, y_train, testpath):\n",
    "    dt_test = [featuresExtract(testpath)]\n",
    "    jarak = np.sum(abs(dt_test - x_train), axis=1)\n",
    "    val_dekat = min(jarak)\n",
    "    index = np.where(jarak == val_dekat)[0][0]\n",
    "    prediksi = y_train[index]\n",
    "    \n",
    "    return prediksi"
   ]
  },
  {
   "attachments": {},
   "cell_type": "markdown",
   "metadata": {},
   "source": [
    "### Pembuatan Data Store Dictionary\n",
    "**Dictionary** dipakai untuk menyimpan data hanya untuk mempermudah pembuatan dataframe pandas. Jika tidak ingin menggunakan package pandas, data cukup disimpan ke dalam array 2D"
   ]
  },
  {
   "cell_type": "code",
   "execution_count": 22,
   "metadata": {},
   "outputs": [],
   "source": [
    "datastore = {\n",
    "    'gambar' : [],\n",
    "    'red' : [],\n",
    "    'green' : [],\n",
    "    'blue' : [],\n",
    "    'label' : []}"
   ]
  },
  {
   "attachments": {},
   "cell_type": "markdown",
   "metadata": {},
   "source": [
    "### Implementasi Penggunaan Feature Extraction (Color)"
   ]
  },
  {
   "cell_type": "code",
   "execution_count": 28,
   "metadata": {},
   "outputs": [
    {
     "data": {
      "text/html": [
       "<div>\n",
       "<style scoped>\n",
       "    .dataframe tbody tr th:only-of-type {\n",
       "        vertical-align: middle;\n",
       "    }\n",
       "\n",
       "    .dataframe tbody tr th {\n",
       "        vertical-align: top;\n",
       "    }\n",
       "\n",
       "    .dataframe thead th {\n",
       "        text-align: right;\n",
       "    }\n",
       "</style>\n",
       "<table border=\"1\" class=\"dataframe\">\n",
       "  <thead>\n",
       "    <tr style=\"text-align: right;\">\n",
       "      <th></th>\n",
       "      <th>gambar</th>\n",
       "      <th>red</th>\n",
       "      <th>green</th>\n",
       "      <th>blue</th>\n",
       "      <th>label</th>\n",
       "    </tr>\n",
       "  </thead>\n",
       "  <tbody>\n",
       "    <tr>\n",
       "      <th>0</th>\n",
       "      <td>adddragronfruit.jpg</td>\n",
       "      <td>4</td>\n",
       "      <td>10</td>\n",
       "      <td>5</td>\n",
       "      <td>adddragronfruit</td>\n",
       "    </tr>\n",
       "    <tr>\n",
       "      <th>1</th>\n",
       "      <td>fruit.jpg</td>\n",
       "      <td>144</td>\n",
       "      <td>186</td>\n",
       "      <td>125</td>\n",
       "      <td>fruit</td>\n",
       "    </tr>\n",
       "    <tr>\n",
       "      <th>2</th>\n",
       "      <td>kalimerah.jpg</td>\n",
       "      <td>151</td>\n",
       "      <td>255</td>\n",
       "      <td>151</td>\n",
       "      <td>kalimerah</td>\n",
       "    </tr>\n",
       "    <tr>\n",
       "      <th>3</th>\n",
       "      <td>minusbucket.jpg</td>\n",
       "      <td>172</td>\n",
       "      <td>197</td>\n",
       "      <td>161</td>\n",
       "      <td>minusbucket</td>\n",
       "    </tr>\n",
       "  </tbody>\n",
       "</table>\n",
       "</div>"
      ],
      "text/plain": [
       "                gambar  red  green  blue            label\n",
       "0  adddragronfruit.jpg    4     10     5  adddragronfruit\n",
       "1            fruit.jpg  144    186   125            fruit\n",
       "2        kalimerah.jpg  151    255   151        kalimerah\n",
       "3      minusbucket.jpg  172    197   161      minusbucket"
      ]
     },
     "metadata": {},
     "output_type": "display_data"
    }
   ],
   "source": [
    "directory = \"D:/Citra Digital Praktik/5210411135/image\"\n",
    "files = os.listdir(directory)\n",
    "training = deepcopy(datastore)\n",
    "    \n",
    "for f in files:\n",
    "    imgpath = os.path.join(directory, f)\n",
    "    sum_channel = featuresExtract(imgpath)\n",
    "    training['gambar'].append(f)\n",
    "    training['red'].append(sum_channel[0])\n",
    "    training['green'].append(sum_channel[1])\n",
    "    training['blue'].append(sum_channel[2])\n",
    "    training['label'].append(f[0:-4])\n",
    "    \n",
    "    training_df = pd.DataFrame(training)\n",
    "    \n",
    "display(training_df)"
   ]
  },
  {
   "attachments": {},
   "cell_type": "markdown",
   "metadata": {},
   "source": [
    "### Implementasi Prediksi Label pada Data Testing"
   ]
  },
  {
   "cell_type": "code",
   "execution_count": 29,
   "metadata": {},
   "outputs": [
    {
     "data": {
      "text/html": [
       "<div>\n",
       "<style scoped>\n",
       "    .dataframe tbody tr th:only-of-type {\n",
       "        vertical-align: middle;\n",
       "    }\n",
       "\n",
       "    .dataframe tbody tr th {\n",
       "        vertical-align: top;\n",
       "    }\n",
       "\n",
       "    .dataframe thead th {\n",
       "        text-align: right;\n",
       "    }\n",
       "</style>\n",
       "<table border=\"1\" class=\"dataframe\">\n",
       "  <thead>\n",
       "    <tr style=\"text-align: right;\">\n",
       "      <th></th>\n",
       "      <th>gambar</th>\n",
       "      <th>red</th>\n",
       "      <th>green</th>\n",
       "      <th>blue</th>\n",
       "      <th>prediksi</th>\n",
       "    </tr>\n",
       "  </thead>\n",
       "  <tbody>\n",
       "    <tr>\n",
       "      <th>0</th>\n",
       "      <td>test1.jpg</td>\n",
       "      <td>4</td>\n",
       "      <td>10</td>\n",
       "      <td>5</td>\n",
       "      <td>adddragronfruit</td>\n",
       "    </tr>\n",
       "    <tr>\n",
       "      <th>1</th>\n",
       "      <td>test2.jpg</td>\n",
       "      <td>172</td>\n",
       "      <td>197</td>\n",
       "      <td>161</td>\n",
       "      <td>minusbucket</td>\n",
       "    </tr>\n",
       "  </tbody>\n",
       "</table>\n",
       "</div>"
      ],
      "text/plain": [
       "      gambar  red  green  blue         prediksi\n",
       "0  test1.jpg    4     10     5  adddragronfruit\n",
       "1  test2.jpg  172    197   161      minusbucket"
      ]
     },
     "metadata": {},
     "output_type": "display_data"
    }
   ],
   "source": [
    "testdir = \"D:/Citra Digital Praktik/5210411135/imgtest\"\n",
    "fltest = os.listdir(testdir)\n",
    "datatest = deepcopy(datastore)\n",
    "\n",
    "for f in fltest:\n",
    "    testpath = os.path.join(testdir, f)\n",
    "    test_extract = featuresExtract(testpath)\n",
    "    \n",
    "    x_train = np.array(training_df[['red', 'green', 'blue']])\n",
    "    y_train = np.array(training_df['label'])\n",
    "    prediksi = testing(x_train, y_train, testpath)\n",
    "    \n",
    "    datatest['gambar'].append(f)\n",
    "    datatest['red'].append(test_extract[0])\n",
    "    datatest['green'].append(test_extract[1])\n",
    "    datatest['blue'].append(test_extract[2])\n",
    "    datatest['label'].append(prediksi)\n",
    "    \n",
    "    datatest_df = pd.DataFrame(datatest)\n",
    "    datatest_df.rename(columns = {'label':'prediksi'}, inplace=True)\n",
    "    \n",
    "display(datatest_df)"
   ]
  }
 ],
 "metadata": {
  "kernelspec": {
   "display_name": "venv",
   "language": "python",
   "name": "python3"
  },
  "language_info": {
   "codemirror_mode": {
    "name": "ipython",
    "version": 3
   },
   "file_extension": ".py",
   "mimetype": "text/x-python",
   "name": "python",
   "nbconvert_exporter": "python",
   "pygments_lexer": "ipython3",
   "version": "3.10.2"
  },
  "orig_nbformat": 4,
  "vscode": {
   "interpreter": {
    "hash": "2013d5ae338eda90dd8d925b3105c64edfaa0aea310ffa3959dda52507ede043"
   }
  }
 },
 "nbformat": 4,
 "nbformat_minor": 2
}
