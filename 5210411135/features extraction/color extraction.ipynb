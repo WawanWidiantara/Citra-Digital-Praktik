{
 "cells": [
  {
   "attachments": {},
   "cell_type": "markdown",
   "metadata": {
    "slideshow": {
     "slide_type": "slide"
    }
   },
   "source": [
    "# Features Extraction (Color)"
   ]
  },
  {
   "attachments": {},
   "cell_type": "markdown",
   "metadata": {
    "slideshow": {
     "slide_type": "slide"
    }
   },
   "source": [
    "### Import all package\n",
    "- **pandas** digunakan untuk mempermudah visualisasi data dan export otomatis ke excel\n",
    "- **copy** digunakan untuk melakukan copy pada list, dictionary, ataupun array agar value awal tidak berubah"
   ]
  },
  {
   "cell_type": "code",
   "execution_count": 46,
   "metadata": {},
   "outputs": [],
   "source": [
    "import cv2\n",
    "import numpy as np\n",
    "import pandas as pd\n",
    "from copy import deepcopy\n",
    "import os"
   ]
  },
  {
   "attachments": {},
   "cell_type": "markdown",
   "metadata": {
    "slideshow": {
     "slide_type": "slide"
    }
   },
   "source": [
    "### Pembuatan Fungsi Feature Extraction\n",
    "tujuan kode dimasukkan ke dalam fungsi adalah mempermudah pemanggilan kode tanpa perlu menulis kode ulang"
   ]
  },
  {
   "cell_type": "code",
   "execution_count": 47,
   "metadata": {},
   "outputs": [],
   "source": [
    "def featuresExtract(imgpath):\n",
    "    img = cv2.imread(imgpath)\n",
    "    b, r, g = cv2.split(img)\n",
    "        \n",
    "    sum_r = np.mean(r)\n",
    "    sum_g = np.mean(g)\n",
    "    sum_b = np.mean(b)\n",
    "    \n",
    "    return [sum_r, sum_g, sum_b]"
   ]
  },
  {
   "attachments": {},
   "cell_type": "markdown",
   "metadata": {
    "slideshow": {
     "slide_type": "subslide"
    }
   },
   "source": [
    "- penghitungan rata-rata pixel tiap channel terdapat pada baris 5-7\n",
    "- penghitungan dilakukan dengan menggunakan **numpy** agar waktu run lebih cepat daripada manual menggunakan loop\n",
    "- berikut contoh kode perhitungan manual menggantikan baris 5-7 dengan loop:"
   ]
  },
  {
   "cell_type": "code",
   "execution_count": null,
   "metadata": {},
   "outputs": [],
   "source": [
    "'''\n",
    "sum_r, sum_g, sum_b = 0\n",
    "for i in range(len(img)):  # perulangan untuk row\n",
    "    for j in range(len(img[0])):  # perulangan untuk column\n",
    "        # blue\n",
    "        px_b = b[i, j]  # membaca tiap pixel pada channel\n",
    "        sum_b += px_b / (len(img) * len(img[0]))  # menghitung rata-rata\n",
    "        \n",
    "        # red\n",
    "        px_r = r[i, j]\n",
    "        sum_r += px_r / (len(img) * len(img[0]))\n",
    "        \n",
    "        # green\n",
    "        px_g = g[i, j]\n",
    "        sum_g += px_g / (len(img) * len(img[0]))\n",
    "'''"
   ]
  },
  {
   "attachments": {},
   "cell_type": "markdown",
   "metadata": {
    "slideshow": {
     "slide_type": "slide"
    }
   },
   "source": [
    "### Pembuatan Fungsi Testing"
   ]
  },
  {
   "cell_type": "code",
   "execution_count": 58,
   "metadata": {},
   "outputs": [],
   "source": [
    "def testing(x_train, y_train, testpath):\n",
    "    dt_test = [featuresExtract(testpath)]\n",
    "    jarak = abs(dt_test - x_train)\n",
    "    tot_jarak = np.sum(jarak, axis=1)\n",
    "    val_dekat = min(tot_jarak)\n",
    "    index = np.where(tot_jarak == val_dekat)[0][0]\n",
    "    prediksi = y_train[index]\n",
    "    \n",
    "    return prediksi"
   ]
  },
  {
   "attachments": {},
   "cell_type": "markdown",
   "metadata": {
    "slideshow": {
     "slide_type": "slide"
    }
   },
   "source": [
    "### Pembuatan Data Store Dictionary\n",
    "**Dictionary** dipakai untuk menyimpan data hanya untuk mempermudah pembuatan dataframe pandas. Jika tidak ingin menggunakan package pandas, data cukup disimpan ke dalam array 2D"
   ]
  },
  {
   "cell_type": "code",
   "execution_count": 38,
   "metadata": {},
   "outputs": [],
   "source": [
    "datastore = {\n",
    "    'gambar' : [],\n",
    "    'red' : [],\n",
    "    'green' : [],\n",
    "    'blue' : [],\n",
    "    'label' : []}"
   ]
  },
  {
   "attachments": {},
   "cell_type": "markdown",
   "metadata": {
    "slideshow": {
     "slide_type": "slide"
    }
   },
   "source": [
    "### Implementasi Penggunaan Feature Extraction (Color)"
   ]
  },
  {
   "cell_type": "code",
   "execution_count": null,
   "metadata": {},
   "outputs": [],
   "source": [
    "directory = \"D:/Citra Digital Praktik/5210411135/image/DatasetDaging\"\n",
    "files = os.listdir(directory)\n",
    "training = deepcopy(datastore)\n",
    "    \n",
    "for f in files:\n",
    "    imgpath = os.path.join(directory, f)\n",
    "    sum_channel = featuresExtract(imgpath)\n",
    "    training['gambar'].append(f)\n",
    "    training['red'].append(sum_channel[0])\n",
    "    training['green'].append(sum_channel[1])\n",
    "    training['blue'].append(sum_channel[2])\n",
    "    training['label'].append(f[0:4])\n",
    "    \n",
    "training_df = pd.DataFrame(training)\n",
    "training_df.set_index('gambar', inplace=True)   \n",
    "display(training_df)"
   ]
  },
  {
   "attachments": {},
   "cell_type": "markdown",
   "metadata": {
    "slideshow": {
     "slide_type": "slide"
    }
   },
   "source": [
    "### Implementasi Prediksi Label pada Data Testing"
   ]
  },
  {
   "cell_type": "code",
   "execution_count": null,
   "metadata": {},
   "outputs": [],
   "source": [
    "testdir = \"D:/Citra Digital Praktik/5210411135/imgtest/DatasetTestDaging\"\n",
    "fltest = os.listdir(testdir)\n",
    "datatest = deepcopy(datastore)\n",
    "\n",
    "for f in fltest:\n",
    "    testpath = os.path.join(testdir, f)\n",
    "    test_extract = featuresExtract(testpath)\n",
    "    \n",
    "    x_train = np.array(training_df[['red', 'green', 'blue']])\n",
    "    y_train = np.array(training_df['label'])\n",
    "    prediksi = testing(x_train, y_train, testpath)\n",
    "    \n",
    "    datatest['gambar'].append(f)\n",
    "    datatest['red'].append(test_extract[0])\n",
    "    datatest['green'].append(test_extract[1])\n",
    "    datatest['blue'].append(test_extract[2])\n",
    "    datatest['label'].append(prediksi)\n",
    "  \n",
    "    \n",
    "datatest_df = pd.DataFrame(datatest)\n",
    "datatest_df.rename(columns = {'label':'prediksi'}, inplace=True)\n",
    "datatest_df.set_index('gambar', inplace=True)   \n",
    "display(datatest_df)"
   ]
  }
 ],
 "metadata": {
  "kernelspec": {
   "display_name": "venv",
   "language": "python",
   "name": "python3"
  },
  "language_info": {
   "codemirror_mode": {
    "name": "ipython",
    "version": 3
   },
   "file_extension": ".py",
   "mimetype": "text/x-python",
   "name": "python",
   "nbconvert_exporter": "python",
   "pygments_lexer": "ipython3",
   "version": "3.10.2"
  },
  "orig_nbformat": 4,
  "vscode": {
   "interpreter": {
    "hash": "2013d5ae338eda90dd8d925b3105c64edfaa0aea310ffa3959dda52507ede043"
   }
  }
 },
 "nbformat": 4,
 "nbformat_minor": 2
}
